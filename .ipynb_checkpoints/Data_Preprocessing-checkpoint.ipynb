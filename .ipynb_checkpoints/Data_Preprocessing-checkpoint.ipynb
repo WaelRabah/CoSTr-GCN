{
 "cells": [
  {
   "cell_type": "code",
   "execution_count": 187,
   "id": "e2bb50c4",
   "metadata": {},
   "outputs": [],
   "source": [
    "import torch\n",
    "import numpy as np\n",
    "from torch.utils.data import Dataset\n",
    "from tqdm import tqdm\n",
    "import torch.nn as nn\n",
    "import torch\n",
    "import numpy as np\n",
    "from random import shuffle\n",
    "import random\n",
    "import torch.nn.functional as F\n",
    "\n",
    "\n",
    "torch.manual_seed(42)\n",
    "torch.cuda.manual_seed(42)"
   ]
  },
  {
   "cell_type": "code",
   "execution_count": 202,
   "id": "47f7b254",
   "metadata": {},
   "outputs": [],
   "source": [
    "def edge2mat(link, num_node):\n",
    "    A = np.zeros((num_node, num_node))\n",
    "    for i, j in link:\n",
    "        A[j, i] = 1\n",
    "    return A\n",
    "\n",
    "\n",
    "def normalize_digraph(A):\n",
    "    Dl = np.sum(A, 0)\n",
    "    _, w = A.shape\n",
    "    Dn = np.zeros((w, w))\n",
    "    for i in range(w):\n",
    "        if Dl[i] > 0:\n",
    "            Dn[i, i] = Dl[i] ** (-1)\n",
    "    AD = np.dot(A, Dn)\n",
    "    return AD\n",
    "\n",
    "\n",
    "def get_spatial_graph(num_node, self_link, inward, outward):\n",
    "    I = edge2mat(self_link, num_node)  # noqa: E741\n",
    "    In = normalize_digraph(edge2mat(inward, num_node))\n",
    "    Out = normalize_digraph(edge2mat(outward, num_node))\n",
    "    A = np.stack((I, In, Out))\n",
    "    return A\n",
    "\n",
    "\n",
    "class Graph():\n",
    "\n",
    "    def __init__(self,\n",
    "                 layout='DHG14/28',\n",
    "                 strategy='uniform',\n",
    "                 max_hop=2,\n",
    "                 dilation=1):\n",
    "        self.max_hop = max_hop\n",
    "        self.dilation = dilation\n",
    "\n",
    "        self.get_edge(layout)\n",
    "        self.hop_dis = self.get_hop_distance(\n",
    "            self.num_node, self.edge, max_hop=max_hop)\n",
    "        self.get_adjacency(strategy)\n",
    "\n",
    "    def __str__(self):\n",
    "        return self.A\n",
    "\n",
    "    def get_edge(self, layout):\n",
    "        if layout == 'DHG14/28':\n",
    "            self.num_node = 22\n",
    "            self_link = [(i, i) for i in range(self.num_node)]\n",
    "            neighbor_link = [(0, 1),\n",
    "                             (0, 2),\n",
    "                             (1, 0),\n",
    "                             (1, 6),\n",
    "                             (1, 10),\n",
    "                             (1, 14),\n",
    "                             (1, 18),\n",
    "                             (2, 0),\n",
    "                             (2, 3),\n",
    "                             (3, 2),\n",
    "                             (3, 4),\n",
    "                             (4, 3),\n",
    "                             (4, 5),\n",
    "                             (5, 4),\n",
    "                             (6, 1),\n",
    "                             (6, 7),\n",
    "                             (7, 6),\n",
    "                             (7, 8),\n",
    "                             (8, 7),\n",
    "                             (8, 9),\n",
    "                             (9, 8),\n",
    "                             (10, 1),\n",
    "                             (10, 11),\n",
    "                             (11, 10),\n",
    "                             (11, 12),\n",
    "                             (12, 11),\n",
    "                             (12, 13),\n",
    "                             (13, 12),\n",
    "                             (14, 1),\n",
    "                             (14, 15),\n",
    "                             (15, 14),\n",
    "                             (15, 16),\n",
    "                             (16, 15),\n",
    "                             (16, 17),\n",
    "                             (17, 16),\n",
    "                             (18, 1),\n",
    "                             (18, 19),\n",
    "                             (19, 18),\n",
    "                             (19, 20),\n",
    "                             (20, 19),\n",
    "                             (20, 21),\n",
    "                             (21, 20)]\n",
    "            self.edge = self_link + neighbor_link\n",
    "            self.center = 1\n",
    "        elif layout == \"SHREC21\":\n",
    "            self.num_node = 20\n",
    "            self_link = [(i, i) for i in range(self.num_node)]\n",
    "            neighbor_link = [\n",
    "        (0, 1),\n",
    "        (1, 2),\n",
    "        (2, 3),\n",
    "        (0, 4),\n",
    "        (4, 5),\n",
    "        (5, 6),\n",
    "        (6, 7),\n",
    "        (0, 8),\n",
    "        (8, 9),\n",
    "        (9, 10),\n",
    "        (10, 11),\n",
    "        (0, 12),\n",
    "        (12, 13),\n",
    "        (13, 14),\n",
    "        (14, 15),\n",
    "        (0, 16),\n",
    "        (16, 17),\n",
    "        (17, 18),\n",
    "        (18, 19),\n",
    "            ]\n",
    "            self.edge = self_link + neighbor_link\n",
    "            self.center = 0\n",
    "        elif layout == \"FPHA\":\n",
    "            self.num_node = 21\n",
    "            self_link = [(i, i) for i in range(self.num_node)]\n",
    "            neighbor_link = [\n",
    "                (0, 1),\n",
    "                (0, 2),\n",
    "                (0, 3),\n",
    "                (0, 4),\n",
    "                (0, 5),\n",
    "                (1, 0),\n",
    "                (1, 6),\n",
    "                (2, 0),\n",
    "                (2, 7),\n",
    "                (3, 0),\n",
    "                (3, 8),\n",
    "                (4, 0),\n",
    "                (4, 9),\n",
    "                (5, 0),\n",
    "                (5, 10),\n",
    "                (6, 1),\n",
    "                (6, 11),\n",
    "                (7, 2),\n",
    "                (7, 12),\n",
    "                (8, 3),\n",
    "                (8, 13),\n",
    "                (9, 4),\n",
    "                (9, 14),\n",
    "                (10, 5),\n",
    "                (10, 15),\n",
    "                (11, 6),\n",
    "                (11, 16),\n",
    "                (12, 7),\n",
    "                (12, 17),\n",
    "                (13, 8),\n",
    "                (13, 18),\n",
    "                (14, 9),\n",
    "                (14, 19),\n",
    "                (15, 10),\n",
    "                (15, 20),\n",
    "                (16, 11),\n",
    "                (17, 12),\n",
    "                (18, 13),\n",
    "                (19, 14),\n",
    "                (20, 15)\n",
    "            ]\n",
    "            self.edge = self_link + neighbor_link\n",
    "            self.center = 0\n",
    "        else:\n",
    "            raise ValueError(\"Do Not Exist This Layout.\")\n",
    "\n",
    "    def get_adjacency(self, strategy):\n",
    "        valid_hop = range(0, self.max_hop + 1, self.dilation)\n",
    "        adjacency = np.zeros((self.num_node, self.num_node))\n",
    "        for hop in valid_hop:\n",
    "            adjacency[self.hop_dis == hop] = 1\n",
    "        normalize_adjacency = self.normalize_digraph(adjacency)\n",
    "\n",
    "        if strategy == 'uniform':\n",
    "            A = np.zeros((1, self.num_node, self.num_node))\n",
    "            A[0] = normalize_adjacency\n",
    "            self.A = A\n",
    "        elif strategy == 'distance':\n",
    "            A = np.zeros((len(valid_hop), self.num_node, self.num_node))\n",
    "            for i, hop in enumerate(valid_hop):\n",
    "                A[i][self.hop_dis == hop] = normalize_adjacency[self.hop_dis == hop]\n",
    "            self.A = A\n",
    "        elif strategy == 'spatial':\n",
    "            A = []\n",
    "            for hop in valid_hop:\n",
    "                a_root = np.zeros((self.num_node, self.num_node))\n",
    "                a_close = np.zeros((self.num_node, self.num_node))\n",
    "                a_further = np.zeros((self.num_node, self.num_node))\n",
    "                for i in range(self.num_node):\n",
    "                    for j in range(self.num_node):\n",
    "                        if self.hop_dis[j, i] == hop:\n",
    "                            if self.hop_dis[j, self.center] == self.hop_dis[i, self.center]:\n",
    "                                a_root[j, i] = normalize_adjacency[j, i]\n",
    "                            elif self.hop_dis[j, self.center] > self.hop_dis[i, self.center]:\n",
    "                                a_close[j, i] = normalize_adjacency[j, i]\n",
    "                            else:\n",
    "                                a_further[j, i] = normalize_adjacency[j, i]\n",
    "                if hop == 0:\n",
    "                    A.append(a_root)\n",
    "                else:\n",
    "                    A.append(a_root + a_close)\n",
    "                    A.append(a_further)\n",
    "            A = np.stack(A)\n",
    "            self.A = A\n",
    "        else:\n",
    "            raise ValueError(\"Do Not Exist This Strategy\")\n",
    "\n",
    "    def get_hop_distance(self, num_node, edge, max_hop=1):\n",
    "        A = np.zeros((num_node, num_node))\n",
    "        for i, j in edge:\n",
    "            A[j, i] = 1\n",
    "            A[i, j] = 1\n",
    "\n",
    "        hop_dis = np.zeros((num_node, num_node)) + np.inf\n",
    "        transfer_mat = [np.linalg.matrix_power(\n",
    "            A, d) for d in range(max_hop + 1)]\n",
    "        arrive_mat = (np.stack(transfer_mat) > 0)\n",
    "        for d in range(max_hop, -1, -1):\n",
    "            hop_dis[arrive_mat[d]] = d\n",
    "        return hop_dis\n",
    "\n",
    "    def normalize_digraph(self, A):\n",
    "        Dl = np.sum(A, 0)\n",
    "        num_node = A.shape[0]\n",
    "        Dn = np.zeros((num_node, num_node))\n",
    "        for i in range(num_node):\n",
    "            if Dl[i] > 0:\n",
    "                Dn[i, i] = Dl[i]**(-1)\n",
    "        AD = np.dot(A, Dn)\n",
    "        return AD\n",
    "\n",
    "    def normalize_undigraph(self, A):\n",
    "        Dl = np.sum(A, 0)\n",
    "        num_node = A.shape[0]\n",
    "        Dn = np.zeros((num_node, num_node))\n",
    "        for i in range(num_node):\n",
    "            if Dl[i] > 0:\n",
    "                Dn[i, i] = Dl[i]**(-0.5)\n",
    "        DAD = np.dot(np.dot(Dn, A), Dn)\n",
    "        return DAD\n",
    "\n",
    "\n",
    "num_joint = 20\n",
    "max_frame = 600\n",
    "\n",
    "class Feeder_SHREC21(Dataset):\n",
    "    \"\"\"\n",
    "    Feeder for skeleton-based gesture recognition in shrec21-skeleton dataset\n",
    "    Arguments:\n",
    "        data_path: the path to '.npy' data, the shape of data should be (N, C, T, V, M)\n",
    "    \"\"\"\n",
    "\n",
    "    def __init__(\n",
    "            self,\n",
    "            data_path=\"SHREC21\",\n",
    "            set_name=\"training\",\n",
    "            window_size=10,\n",
    "            aug_by_sw=False\n",
    "    ):\n",
    "        self.data_path = data_path\n",
    "        self.set_name = set_name\n",
    "        self.classes=[\"\",\n",
    "                    \"RIGHT\",\n",
    "                    \"KNOB\",\n",
    "                    \"CROSS\",\n",
    "                    \"THREE\",\n",
    "                    \"V\",\n",
    "                    \"ONE\",\n",
    "                    \"FOUR\",\n",
    "                    \"GRAB\",\n",
    "                    \"DENY\",\n",
    "                    \"MENU\",\n",
    "                    \"CIRCLE\",\n",
    "                    \"TAP\",\n",
    "                    \"PINCH\",\n",
    "                    \"LEFT\",\n",
    "                    \"TWO\",\n",
    "                    \"OK\",\n",
    "                    \"EXPAND\",\n",
    "                    ]\n",
    "        self.class_to_idx={ class_l:idx for idx, class_l in enumerate(self.classes)}\n",
    "        self.window_size=window_size\n",
    "        self.aug_by_sw=aug_by_sw\n",
    "        self.load_data()\n",
    "\n",
    "\n",
    "    def load_data(self):\n",
    "        self.dataset = []\n",
    "        # load file list\n",
    "        # classes = set([''])\n",
    "        # self.classes = []\n",
    "        with open(\n",
    "                f'{self.data_path}/{self.set_name}_set/annotations_revised.txt' if self.set_name == \"test\" else f'{self.data_path}/{self.set_name}_set/annotations_revised_{self.set_name}.txt',\n",
    "                mode=\"r\") as f:\n",
    "\n",
    "            for line in f:\n",
    "                fields = line.split(';')\n",
    "                seq_idx = fields[0]\n",
    "                gestures = fields[1:-1]\n",
    "                nb_gestures = len(gestures) // 3\n",
    "                gesture_infos = []\n",
    "                for i in range(nb_gestures):\n",
    "                    gesture_info = gestures[i * 3:(i + 1) * 3]\n",
    "                    gesture_label = gesture_info[0]\n",
    "                    gesture_start = gesture_info[1]\n",
    "                    gesture_end = gesture_info[2]\n",
    "                    gesture_infos.append((gesture_start, gesture_end, gesture_label))\n",
    "                    # classes.add(gesture_label)\n",
    "                self.dataset.append((seq_idx, gesture_infos))\n",
    "\n",
    "        # self.classes = list(classes)\n",
    "        # with open('datasets/shrec21/classes.yaml', mode=\"w\") as f:\n",
    "        #     yaml.dump(self.classes, f, explicit_start=True, default_flow_style=False)\n",
    "\n",
    "    def __len__(self):\n",
    "        return len(self.dataset)\n",
    "\n",
    "    def __iter__(self):\n",
    "        return self\n",
    "\n",
    "    def __getitem__(self, index):\n",
    "        def parse_seq_data(src_file):\n",
    "            '''\n",
    "            Retrieves the skeletons sequence for each gesture\n",
    "            '''\n",
    "            video = []\n",
    "            mode=\"pos\"\n",
    "            for line in src_file:\n",
    "\n",
    "                line = line.split(\"\\n\")[0]\n",
    "\n",
    "                data = line.split(\";\")[:-1]\n",
    "\n",
    "                frame = []\n",
    "                point = []\n",
    "                for data_ele in data:\n",
    "                    if len(data_ele)==0:\n",
    "                        continue\n",
    "                    point.append(float(data_ele))\n",
    "\n",
    "                    if len(point) == 3 and mode==\"pos\":\n",
    "                        frame.append(point)\n",
    "                        point = []\n",
    "                        mode=\"quat\"\n",
    "                    elif len(point) == 4 and mode==\"quat\":\n",
    "                        frame.append(point)\n",
    "                        point = []\n",
    "                        mode=\"pos\"\n",
    "                if len(frame) > 0 :\n",
    "                    positions   =[]\n",
    "                    quats=[]\n",
    "\n",
    "                    for i in range(num_joint):\n",
    "                        positions.append(frame[i*2])\n",
    "                        quats.append(frame[i*2+1])\n",
    "\n",
    "                    video.append(positions)\n",
    "            return np.array(video)\n",
    "        def sample_window(data_num,stride):\n",
    "            # sample #window_size frames from whole video\n",
    "\n",
    "            sample_size = self.window_size\n",
    "\n",
    "            idx_list = [0, data_num - 1]\n",
    "            for i in range(sample_size):\n",
    "                if index not in idx_list and index < data_num:\n",
    "                    idx_list.append(index)\n",
    "            idx_list.sort()\n",
    "\n",
    "            while len(idx_list) < sample_size:\n",
    "                idx = random.randint(0, data_num - 1)\n",
    "                if idx not in idx_list:\n",
    "                    idx_list.append(idx)\n",
    "            idx_list.sort()\n",
    "            return idx_list\n",
    "        # output shape (C, T, V, M)\n",
    "        # get data\n",
    "        seq_idx, gesture_infos = self.dataset[index]\n",
    "        with open(f'{self.data_path}/{self.set_name}_set/sequences/{seq_idx}.txt', mode=\"r\") as seq_f:\n",
    "            sequence = parse_seq_data(seq_f)\n",
    "        labeled_sequence = [(f, \"\") for f in sequence]\n",
    "        # if len(labeled_sequence) > max_frame:\n",
    "        #     max_frame = len(labeled_sequence)\n",
    "        for gesture_start, gesture_end, gesture_label in gesture_infos:\n",
    "            labeled_sequence = [\n",
    "                (np.array(f), gesture_label if int(gesture_start) <= idx <= int(gesture_end) and label == \"\" else label)\n",
    "                for\n",
    "                idx, (f, label) in enumerate(labeled_sequence)]\n",
    "\n",
    "        frames = [f for f, l in labeled_sequence]\n",
    "        # print(len(self.classes))\n",
    "        labels_per_frame = [self.class_to_idx[l] for f, l in labeled_sequence]\n",
    "        gestures=[]\n",
    "        windows_sub_sequences_per_gesture={ i:[] for i in range(len(self.classes))}\n",
    "\n",
    "        for gesture_start, gesture_end, gesture_label in gesture_infos: \n",
    "            gesture_start=int(gesture_start)\n",
    "            gesture_end=int(gesture_end)\n",
    "            g_frames=frames[gesture_start:gesture_end]\n",
    "            g_label=labels_per_frame[gesture_start:gesture_end]\n",
    "            gestures.append((g_frames,g_label))\n",
    "            label=self.class_to_idx[gesture_label]\n",
    "            if self.aug_by_sw :\n",
    "                num_windows=len(g_frames) // self.window_size\n",
    "                \n",
    "                for stride in range(1,self.window_size) :\n",
    "                    l=len(g_frames)\n",
    "                    if l // stride >= self.window_size :\n",
    "                        window_indices=sample_window(l,stride)\n",
    "                        window=[ g_frames[idx] for idx in window_indices]\n",
    "                        windows_sub_sequences_per_gesture[label].append((window,label))\n",
    "                \n",
    "\n",
    "        ng_sequences=[]\n",
    "        ng_seq=[]\n",
    "        l=len(frames)\n",
    "        indices_ng=[]\n",
    "        for i in range(len(frames)-1):\n",
    "            f_curr=frames[i]\n",
    "            f_next=frames[i+1]\n",
    "            l_curr=labels_per_frame[i]\n",
    "            l_next=labels_per_frame[i+1]\n",
    "\n",
    "            if l_curr==0 and l_next==0 :\n",
    "                indices_ng.append(i)\n",
    "                ng_seq.append(f_curr)\n",
    "                if i==l-2:\n",
    "                    ng_seq.append(f_next)\n",
    "                    ng_sequences.append((ng_seq,0))\n",
    "                    ng_seq=[]\n",
    "                    continue\n",
    "            elif l_curr==0 and l_next!=0 :\n",
    "                indices_ng.append(i)\n",
    "                ng_seq.append(f_curr)\n",
    "                ng_sequences.append((ng_seq,0))\n",
    "                ng_seq=[]\n",
    "                continue\n",
    "        \n",
    "        return  gestures, ng_sequences, windows_sub_sequences_per_gesture\n",
    "\n",
    "def get_window_label(label,num_classes=18):\n",
    "\n",
    "    W=len(label)\n",
    "    sum=torch.zeros((num_classes))\n",
    "    for t in range(W):\n",
    "        sum[ label[t]] += 1\n",
    "    return  sum.argmax(dim=-1).item()\n",
    "\n",
    "def gendata(\n",
    "        data_path,\n",
    "        set_name,\n",
    "        max_frame,\n",
    "        window_size=20,\n",
    "        aug_by_sw=False\n",
    "):\n",
    "    feeder = Feeder_SHREC21(\n",
    "        data_path=data_path,\n",
    "        set_name=set_name,\n",
    "        window_size=window_size,\n",
    "        aug_by_sw=aug_by_sw\n",
    "    )\n",
    "    dataset = feeder.dataset\n",
    "\n",
    "    data = []\n",
    "    ng_sequences_data=[]\n",
    "    windows_sub_sequences_data={ i:[] for i in range(len(feeder.classes))}\n",
    "    for i, s in enumerate(tqdm(dataset)):\n",
    "        data_el,ng_sequences, windows_sub_sequences_per_gesture = feeder[i]\n",
    "        ng_sequences_data=[*ng_sequences_data,*ng_sequences]\n",
    "        l=len(data_el)\n",
    "        # for w in range(num_windows):\n",
    "        for idx,gesture in enumerate(data_el) :\n",
    "            current_skeletons_window = np.array(gesture[0])\n",
    "            label = gesture[1]\n",
    "            label = get_window_label(label)\n",
    "            windows_sub_sequences_data[label]=[*windows_sub_sequences_data[label],*windows_sub_sequences_per_gesture[label]]\n",
    "            data.append((current_skeletons_window,label)) \n",
    "    \n",
    "    data_classes_count={}\n",
    "    \n",
    "    for seq,label in data:\n",
    "        if label in data_classes_count:\n",
    "            data_classes_count[label]+=1\n",
    "        else :\n",
    "            data_classes_count[label]=1\n",
    "    data_classes_count[0]=len(ng_sequences_data)\n",
    "\n",
    "        \n",
    "    # with open(label_out_path, \"wb\") as f:\n",
    "    #     pickle.dump((set_name, list(total_labels)), f)\n",
    "\n",
    "    # np.save(data_out_path, fp)\n",
    "\n",
    "    return data, data_classes_count, ng_sequences_data, windows_sub_sequences_data\n",
    "\n",
    "class GraphDataset(Dataset):\n",
    "    def __init__(\n",
    "        self,\n",
    "        data_path,\n",
    "        set_name,\n",
    "        window_size,\n",
    "        use_data_aug=False,\n",
    "        normalize=True,\n",
    "        scaleInvariance=False,\n",
    "        translationInvariance=False,\n",
    "        isPadding=False,\n",
    "        useSequenceFragments=False,\n",
    "        useRandomMoving=False,\n",
    "        useMirroring=False,\n",
    "        useTimeInterpolation=False,\n",
    "        useNoise=False,\n",
    "        useScaleAug=False,\n",
    "        useTranslationAug=False,\n",
    "        use_aug_by_sw=False,\n",
    "        nb_sub_sequences=10,\n",
    "        sample_classes=False,\n",
    "        mmap_mode=\"r\",\n",
    "        number_of_samples_per_class=0\n",
    "    ):\n",
    "        \"\"\"Initialise a Graph dataset\n",
    "        \"\"\"\n",
    "        self.data_path = data_path\n",
    "        self.set_name= set_name\n",
    "        self.use_data_aug = use_data_aug\n",
    "        self.window_size = window_size\n",
    "        self.compoent_num = 20\n",
    "        self.normalize = normalize\n",
    "        self.scaleInvariance = scaleInvariance\n",
    "        self.translationInvariance = translationInvariance\n",
    "        # self.transform = transform\n",
    "        self.isPadding = isPadding\n",
    "        self.useSequenceFragments = useSequenceFragments\n",
    "        self.useRandomMoving = useRandomMoving\n",
    "        self.useMirroring = useMirroring\n",
    "        self.useTimeInterpolation = useTimeInterpolation\n",
    "        self.useNoise = useNoise\n",
    "        self.useScaleAug = useScaleAug\n",
    "        self.useTranslationAug = useTranslationAug\n",
    "        self.use_aug_by_sw=use_aug_by_sw\n",
    "        self.number_of_samples_per_class=number_of_samples_per_class\n",
    "        self.classes=[\"No gesture\",\n",
    "                        \"RIGHT\",\n",
    "                        \"KNOB\",\n",
    "                        \"CROSS\",\n",
    "                        \"THREE\",\n",
    "                        \"V\",\n",
    "                        \"ONE\",\n",
    "                        \"FOUR\",\n",
    "                        \"GRAB\",\n",
    "                        \"DENY\",\n",
    "                        \"MENU\",\n",
    "                        \"CIRCLE\",\n",
    "                        \"TAP\",\n",
    "                        \"PINCH\",\n",
    "                        \"LEFT\",\n",
    "                        \"TWO\",\n",
    "                        \"OK\",\n",
    "                        \"EXPAND\",\n",
    "                        ]\n",
    "        self.load_data()\n",
    "        print(\"Number of gestures per class in the original \"+self.set_name+\" set :\")\n",
    "        self.print_classes_information()\n",
    "        if sample_classes :\n",
    "            self.sample_classes(nb_sub_sequences)\n",
    "            \n",
    "        self.sample_no_gesture_class()\n",
    "        \n",
    "        data=[]\n",
    "        \n",
    "        for idx,data_el in enumerate(self.data):\n",
    "            try :\n",
    "                if np.array(data_el[0]).shape[0]>0 :   \n",
    "                    data.append(data_el)\n",
    "            except :\n",
    "                print(data_el)\n",
    "            \n",
    "                \n",
    "                \n",
    "                \n",
    "        self.data=data\n",
    "\n",
    "        if self.use_data_aug:\n",
    "            print(\"Augmenting data ....\")\n",
    "            augmented_data = []\n",
    "            for idx,data_el in enumerate(self.data):\n",
    "                augmented_skeletons = self.data_aug(self.preprocessSkeleton(\n",
    "                    torch.from_numpy(np.array(data_el[0])).float()))\n",
    "                for s in augmented_skeletons:\n",
    "                    augmented_data.append((s,data_el[1]))\n",
    "            self.data = augmented_data\n",
    "        if self.use_aug_by_sw or self.use_data_aug :\n",
    "            print(\"Number of gestures per class in the \"+self.set_name+\" set after augmentation:\")\n",
    "            self.print_classes_information()\n",
    "        # if normalization:\n",
    "        #     self.get_mean_map()\n",
    "\n",
    "    def load_data(self):\n",
    "        # Data: N C V T M\n",
    "        self.data, data_classes_count, self.ng_sequences_data, self.gesture_sub_sequences_data= gendata(\n",
    "                self.data_path,\n",
    "                self.set_name,\n",
    "                max_frame,\n",
    "                self.window_size,\n",
    "                self.use_aug_by_sw\n",
    "        )\n",
    "        \n",
    "    def print_classes_information(self):\n",
    "        data_dict={ i:0 for i in range(len(self.classes))}\n",
    "        for seq,label in self.data:\n",
    "            data_dict[label]+=1\n",
    "        for class_label in data_dict.keys():\n",
    "            print(\"Class\",self.classes[class_label],\"has\",data_dict[class_label], \"samples\")\n",
    "    def sample_no_gesture_class(self):\n",
    "        shuffle(self.ng_sequences_data)\n",
    "        samples=self.ng_sequences_data[:self.number_of_samples_per_class * 3]\n",
    "        \n",
    "        self.data=[*self.data,*samples]\n",
    "        \n",
    "    def sample_classes(self,nb_sub_sequences):\n",
    "        # Data: N C V T M\n",
    "        data_dict={ i:[] for i in range(len(self.classes))}\n",
    "        data=[]\n",
    "        for seq,label in self.data:\n",
    "            data_dict[label].append((seq,label))\n",
    "        \n",
    "        \n",
    "        for k in data_dict.keys():\n",
    "            samples=data_dict[k][:self.number_of_samples_per_class if k!=0 else self.number_of_samples_per_class * 3]\n",
    "            if self.use_aug_by_sw :\n",
    "                samples=[*samples, *self.gesture_sub_sequences_data[k][:nb_sub_sequences]]\n",
    "            data=[*data,*samples]\n",
    "        \n",
    "        self.data=data\n",
    "        \n",
    "        \n",
    "    def __len__(self):\n",
    "        return len(self.data)\n",
    "        \n",
    "        \n",
    "\n",
    "    def __iter__(self):\n",
    "        return self\n",
    "    def preprocessSkeleton(self, skeleton):\n",
    "        def translationInvariance(skeleton):\n",
    "            # normalize by palm center value at frame=1\n",
    "            skeleton -= torch.clone(skeleton[0][1])\n",
    "            skeleton = skeleton.float()\n",
    "            return skeleton\n",
    "\n",
    "        def scaleInvariance(skeleton):\n",
    "\n",
    "            x_c = torch.clone(skeleton)\n",
    "\n",
    "            distance = torch.sqrt(torch.sum((x_c[0, 1]-x_c[0, 0])**2, dim=-1))\n",
    "\n",
    "            factor = 1/distance\n",
    "\n",
    "            x_c *= factor\n",
    "\n",
    "            return x_c\n",
    "\n",
    "        def normalize(skeleton):\n",
    "\n",
    "            # if self.transform:\n",
    "            #     skeleton = self.transform(skeleton.numpy())\n",
    "            skeleton = F.normalize(skeleton)\n",
    "\n",
    "            return skeleton\n",
    "        if self.normalize:\n",
    "            skeleton = normalize(skeleton)\n",
    "        if self.scaleInvariance:\n",
    "            skeleton = scaleInvariance(skeleton)\n",
    "        if self.translationInvariance:\n",
    "            skeleton = translationInvariance(skeleton)\n",
    "\n",
    "        return skeleton\n",
    "    def __getitem__(self, index):\n",
    "        \n",
    "        data_numpy,label = self.data[index]\n",
    "        # label = self.labels[index]\n",
    "\n",
    "        skeleton = np.array(data_numpy)\n",
    "        \n",
    "        # if self.data_aug :\n",
    "        #     pass\n",
    "\n",
    "        data_num = skeleton.shape[0]\n",
    "        if self.isPadding:\n",
    "            # padding\n",
    "            skeleton = self.auto_padding(skeleton, self.max_seq_size)\n",
    "            # label\n",
    "\n",
    "\n",
    "            return skeleton, label, index\n",
    "\n",
    "        if data_num >= self.window_size:\n",
    "            idx_list = self.sample_frames(data_num)\n",
    "            skeleton = [skeleton[idx] for idx in idx_list]\n",
    "            skeleton = np.array(skeleton)\n",
    "            skeleton = torch.from_numpy(skeleton)\n",
    "        else:\n",
    "            skeleton = self.upsample(skeleton, self.window_size)\n",
    "\n",
    "        # print(label)\n",
    "        return skeleton, label, index\n",
    "\n",
    "    def data_aug(self, skeleton):\n",
    "\n",
    "        def scale(skeleton):\n",
    "            ratio = 0.2\n",
    "            low = 1 - ratio\n",
    "            high = 1 + ratio\n",
    "            factor = np.random.uniform(low, high)\n",
    "            video_len = skeleton.shape[0]\n",
    "            for t in range(video_len):\n",
    "                for j_id in range(self.compoent_num):\n",
    "                    skeleton[t][j_id] *= factor\n",
    "            skeleton = np.array(skeleton)\n",
    "            return skeleton\n",
    "\n",
    "        def shift(skeleton):\n",
    "            low = -0.1\n",
    "            high = -low\n",
    "            offset = np.random.uniform(low, high, 3)\n",
    "            video_len = skeleton.shape[0]\n",
    "            for t in range(video_len):\n",
    "                for j_id in range(self.compoent_num):\n",
    "                    skeleton[t][j_id] += offset\n",
    "            skeleton = np.array(skeleton)\n",
    "            return skeleton\n",
    "\n",
    "        def noise(skeleton):\n",
    "            low = -0.1\n",
    "            high = -low\n",
    "            # select 4 joints\n",
    "            all_joint = list(range(self.compoent_num))\n",
    "            shuffle(all_joint)\n",
    "            selected_joint = all_joint[0:4]\n",
    "            for j_id in selected_joint:\n",
    "                noise_offset = np.random.uniform(low, high, 3)\n",
    "                for t in range(skeleton.shape[0]):\n",
    "                    skeleton[t][j_id] += noise_offset\n",
    "\n",
    "            skeleton = np.array(skeleton)\n",
    "            return skeleton\n",
    "\n",
    "        def time_interpolate(skeleton):\n",
    "            skeleton = np.array(skeleton)\n",
    "            video_len = skeleton.shape[0]\n",
    "\n",
    "            r = np.random.uniform(0, 1)\n",
    "\n",
    "            result = []\n",
    "\n",
    "            for i in range(1, video_len):\n",
    "                displace = skeleton[i] - skeleton[i - 1]  # d_t = s_t+1 - s_t\n",
    "                displace *= r\n",
    "                result.append(skeleton[i - 1] + displace)  # r*disp\n",
    "\n",
    "            while len(result) < self.window_size:\n",
    "                result.append(result[-1])  # padding\n",
    "            result = np.array(result)\n",
    "            return result\n",
    "\n",
    "        def random_sequence_fragments(sample):\n",
    "            samples = [sample]\n",
    "            sample = torch.from_numpy(sample)\n",
    "            n_fragments = 5\n",
    "            T, V, C = sample.shape\n",
    "            if T <= self.window_size:\n",
    "                return samples\n",
    "            for _ in range(n_fragments):\n",
    "\n",
    "                # fragment_len=int(T*fragment_len)\n",
    "                fragment_len = self.window_size\n",
    "                max_start_frame = T-fragment_len\n",
    "\n",
    "                random_start_frame = random.randint(0, max_start_frame)\n",
    "                new_sample = sample[random_start_frame:random_start_frame+fragment_len]\n",
    "                samples.append(new_sample.numpy())\n",
    "\n",
    "            return samples\n",
    "\n",
    "        def mirroring(data_numpy):\n",
    "            T, V, C = data_numpy.shape\n",
    "            data_numpy[:, :, 0] = np.max(\n",
    "                data_numpy[:, :, 0]) + np.min(data_numpy[:, :, 0]) - data_numpy[:, :, 0]\n",
    "            return data_numpy\n",
    "\n",
    "        def random_moving(data_numpy,\n",
    "                          angle_candidate=[-10., -5., 0., 5., 10.],\n",
    "                          scale_candidate=[0.9, 1.0, 1.1],\n",
    "                          transform_candidate=[-0.2, -0.1, 0.0, 0.1, 0.2],\n",
    "                          move_time_candidate=[1]):\n",
    "            # input: T,V,C\n",
    "            data_numpy = np.transpose(data_numpy, (2, 0, 1))\n",
    "            new_data_numpy = np.zeros(data_numpy.shape)\n",
    "            C, T, V = data_numpy.shape\n",
    "            move_time = random.choice(move_time_candidate)\n",
    "\n",
    "            node = np.arange(0, T, T * 1.0 / move_time).round().astype(int)\n",
    "            node = np.append(node, T)\n",
    "            num_node = len(node)\n",
    "\n",
    "            A = np.random.choice(angle_candidate, num_node)\n",
    "            S = np.random.choice(scale_candidate, num_node)\n",
    "            T_x = np.random.choice(transform_candidate, num_node)\n",
    "            T_y = np.random.choice(transform_candidate, num_node)\n",
    "\n",
    "            a = np.zeros(T)\n",
    "            s = np.zeros(T)\n",
    "            t_x = np.zeros(T)\n",
    "            t_y = np.zeros(T)\n",
    "\n",
    "            # linspace\n",
    "            for i in range(num_node - 1):\n",
    "                a[node[i]:node[i + 1]] = np.linspace(\n",
    "                    A[i], A[i + 1], node[i + 1] - node[i]) * np.pi / 180\n",
    "                s[node[i]:node[i + 1]] = np.linspace(S[i], S[i + 1],\n",
    "                                                     node[i + 1] - node[i])\n",
    "                t_x[node[i]:node[i + 1]] = np.linspace(T_x[i], T_x[i + 1],\n",
    "                                                       node[i + 1] - node[i])\n",
    "                t_y[node[i]:node[i + 1]] = np.linspace(T_y[i], T_y[i + 1],\n",
    "                                                       node[i + 1] - node[i])\n",
    "\n",
    "            theta = np.array([[np.cos(a) * s, -np.sin(a) * s],\n",
    "                              [np.sin(a) * s, np.cos(a) * s]])\n",
    "\n",
    "            # perform transformation\n",
    "            for i_frame in range(T):\n",
    "                xy = data_numpy[0:2, i_frame, :]\n",
    "                new_xy = np.dot(theta[:, :, i_frame], xy.reshape(2, -1))\n",
    "\n",
    "                new_xy[0] += t_x[i_frame]\n",
    "                new_xy[1] += t_y[i_frame]\n",
    "\n",
    "                new_data_numpy[0:2, i_frame, :] = new_xy.reshape(2, V)\n",
    "\n",
    "            new_data_numpy[2, :, :] = data_numpy[2, :, :]\n",
    "\n",
    "            return np.transpose(new_data_numpy, (1, 2, 0))\n",
    "\n",
    "        skeleton = np.array(skeleton)\n",
    "        skeletons = [skeleton]\n",
    "        if self.useTimeInterpolation:\n",
    "            skeletons.append(time_interpolate(skeleton))\n",
    "\n",
    "        if self.useNoise:\n",
    "            skeletons.append(noise(skeleton))\n",
    "\n",
    "        if self.useScaleAug:\n",
    "            skeletons.append(scale(skeleton))\n",
    "\n",
    "        if self.useTranslationAug:\n",
    "            skeletons.append(shift(skeleton))\n",
    "\n",
    "        if self.useSequenceFragments:\n",
    "            n_skeletons = []\n",
    "            for s in skeletons:\n",
    "                n_skeletons = [*n_skeletons, *random_sequence_fragments(s)]\n",
    "            skeletons = [*skeletons, *n_skeletons]\n",
    "\n",
    "        if self.useRandomMoving:\n",
    "            # aug_skeletons = []\n",
    "            # for s in skeletons:\n",
    "            #     aug_skeletons.append(random_moving(s))\n",
    "            skeletons.append(random_moving(skeleton))\n",
    "\n",
    "        if self.useMirroring:\n",
    "            aug_skeletons = []\n",
    "            for s in skeletons:\n",
    "                aug_skeletons.append(mirroring(s))\n",
    "            skeletons = [*skeletons, *aug_skeletons]\n",
    "\n",
    "        return skeletons\n",
    "\n",
    "    def auto_padding(self, data_numpy, size, random_pad=False):\n",
    "        C, T, V = data_numpy.shape\n",
    "        if T < size:\n",
    "            begin = random.randint(0, size - T) if random_pad else 0\n",
    "            data_numpy_paded = np.zeros((C, size, V))\n",
    "            data_numpy_paded[:, begin:begin + T, :] = data_numpy\n",
    "            return data_numpy_paded\n",
    "        else:\n",
    "            return data_numpy\n",
    "\n",
    "    def upsample(self, skeleton, max_frames):\n",
    "        tensor = torch.unsqueeze(torch.unsqueeze(\n",
    "            torch.from_numpy(skeleton), dim=0), dim=0)\n",
    "        \n",
    "        out = nn.functional.interpolate(\n",
    "            tensor, size=[max_frames, tensor.shape[-2], tensor.shape[-1]], mode='trilinear')\n",
    "        tensor = torch.squeeze(torch.squeeze(out, dim=0), dim=0)\n",
    "\n",
    "        return tensor\n",
    "\n",
    "    def sample_frames(self, data_num):\n",
    "        # sample #window_size frames from whole video\n",
    "\n",
    "        sample_size = self.window_size\n",
    "        each_num = (data_num - 1) / (sample_size - 1)\n",
    "        idx_list = [0, data_num - 1]\n",
    "        for i in range(sample_size):\n",
    "            index = round(each_num * i)\n",
    "            if index not in idx_list and index < data_num:\n",
    "                idx_list.append(index)\n",
    "        idx_list.sort()\n",
    "\n",
    "        while len(idx_list) < sample_size:\n",
    "            idx = random.randint(0, data_num - 1)\n",
    "            if idx not in idx_list:\n",
    "                idx_list.append(idx)\n",
    "        idx_list.sort()\n",
    "        return idx_list\n",
    "    def get_mean_map(self):\n",
    "        data = self.data\n",
    "        N, C, T, V = data.shape\n",
    "        self.mean_map = (\n",
    "            data.mean(axis=2, keepdims=True).mean(axis=4, keepdims=True).mean(axis=0)\n",
    "        )\n",
    "        self.std_map = (\n",
    "            data.transpose((0, 2, 3, 1))\n",
    "            .reshape((N * T, C * V))\n",
    "            .std(axis=0)\n",
    "            .reshape((C, 1, V, 1))\n",
    "        )\n",
    "\n",
    "def load_data_sets(window_size=10, batch_size=32,workers=4):\n",
    "    \n",
    "    train_ds=GraphDataset(\"./data/SHREC21\",\"training\",window_size=window_size,\n",
    "                                use_data_aug=False,\n",
    "                                normalize=False, \n",
    "                                scaleInvariance=False,\n",
    "                                translationInvariance=False, \n",
    "                                useRandomMoving=True, \n",
    "                                isPadding=False, \n",
    "                                useSequenceFragments=False, \n",
    "                                useMirroring=False,\n",
    "                                useTimeInterpolation=False,\n",
    "                                useNoise=True,\n",
    "                                useScaleAug=False,\n",
    "                                useTranslationAug=False,\n",
    "                                  use_aug_by_sw=True,\n",
    "                                sample_classes=True,\n",
    "                                number_of_samples_per_class=23\n",
    "                         )\n",
    "    test_ds=GraphDataset(\"./data/SHREC21\",\"test\",window_size=window_size, use_data_aug=False,\n",
    "                                normalize=False, scaleInvariance=False, translationInvariance=False, isPadding=False, number_of_samples_per_class=14,use_aug_by_sw=False,sample_classes=False)\n",
    "    graph = Graph(layout=\"SHREC21\",strategy=\"distance\")\n",
    "    print(\"train data num: \", len(train_ds))\n",
    "    print(\"test data num: \", len(test_ds))\n",
    "\n",
    "    train_loader = torch.utils.data.DataLoader(\n",
    "        train_ds,\n",
    "        batch_size=batch_size, shuffle=True,\n",
    "        num_workers=workers, pin_memory=False)\n",
    "\n",
    "    val_loader = torch.utils.data.DataLoader(\n",
    "        test_ds,\n",
    "        batch_size=batch_size, shuffle=True,\n",
    "        num_workers=workers, pin_memory=False)\n",
    "    \n",
    "    return train_loader, val_loader, torch.from_numpy(graph.A)"
   ]
  },
  {
   "cell_type": "code",
   "execution_count": 203,
   "id": "a9600d18",
   "metadata": {},
   "outputs": [
    {
     "name": "stderr",
     "output_type": "stream",
     "text": [
      "  1%|          | 1/108 [00:00<00:23,  4.52it/s]"
     ]
    },
    {
     "name": "stdout",
     "output_type": "stream",
     "text": [
      "8\n",
      "4\n"
     ]
    },
    {
     "name": "stderr",
     "output_type": "stream",
     "text": [
      "\r",
      "  2%|▏         | 2/108 [00:00<00:23,  4.54it/s]"
     ]
    },
    {
     "name": "stdout",
     "output_type": "stream",
     "text": [
      "9\n",
      "5\n",
      "5\n"
     ]
    },
    {
     "name": "stderr",
     "output_type": "stream",
     "text": [
      "  4%|▎         | 4/108 [00:00<00:20,  5.13it/s]"
     ]
    },
    {
     "name": "stdout",
     "output_type": "stream",
     "text": [
      "1\n",
      "9\n",
      "9\n",
      "2\n",
      "2\n",
      "5\n"
     ]
    },
    {
     "name": "stderr",
     "output_type": "stream",
     "text": [
      "  6%|▌         | 6/108 [00:01<00:18,  5.41it/s]"
     ]
    },
    {
     "name": "stdout",
     "output_type": "stream",
     "text": [
      "9\n",
      "4\n",
      "9\n",
      "3\n",
      "2\n",
      "9\n"
     ]
    },
    {
     "name": "stderr",
     "output_type": "stream",
     "text": [
      "  7%|▋         | 8/108 [00:01<00:17,  5.75it/s]"
     ]
    },
    {
     "name": "stdout",
     "output_type": "stream",
     "text": [
      "5\n",
      "9\n",
      "9\n",
      "3\n",
      "7\n",
      "2\n"
     ]
    },
    {
     "name": "stderr",
     "output_type": "stream",
     "text": [
      "\r",
      "  8%|▊         | 9/108 [00:01<00:16,  6.06it/s]"
     ]
    },
    {
     "name": "stdout",
     "output_type": "stream",
     "text": [
      "2\n",
      "4\n"
     ]
    },
    {
     "name": "stderr",
     "output_type": "stream",
     "text": [
      "\r",
      "  9%|▉         | 10/108 [00:01<00:17,  5.65it/s]"
     ]
    },
    {
     "name": "stdout",
     "output_type": "stream",
     "text": [
      "1\n",
      "1\n",
      "1\n"
     ]
    },
    {
     "name": "stderr",
     "output_type": "stream",
     "text": [
      "\r",
      " 10%|█         | 11/108 [00:02<00:19,  5.06it/s]"
     ]
    },
    {
     "name": "stdout",
     "output_type": "stream",
     "text": [
      "9\n",
      "2\n",
      "9\n"
     ]
    },
    {
     "name": "stderr",
     "output_type": "stream",
     "text": [
      "\r",
      " 11%|█         | 12/108 [00:02<00:19,  4.90it/s]"
     ]
    },
    {
     "name": "stdout",
     "output_type": "stream",
     "text": [
      "5\n",
      "5\n",
      "9\n"
     ]
    },
    {
     "name": "stderr",
     "output_type": "stream",
     "text": [
      "\r",
      " 12%|█▏        | 13/108 [00:02<00:22,  4.25it/s]"
     ]
    },
    {
     "name": "stdout",
     "output_type": "stream",
     "text": [
      "9\n",
      "9\n",
      "9\n"
     ]
    },
    {
     "name": "stderr",
     "output_type": "stream",
     "text": [
      "\r",
      " 13%|█▎        | 14/108 [00:03<00:39,  2.40it/s]"
     ]
    },
    {
     "name": "stdout",
     "output_type": "stream",
     "text": [
      "5\n",
      "4\n",
      "6\n",
      "9\n"
     ]
    },
    {
     "name": "stderr",
     "output_type": "stream",
     "text": [
      "\r",
      " 14%|█▍        | 15/108 [00:03<00:34,  2.71it/s]"
     ]
    },
    {
     "name": "stdout",
     "output_type": "stream",
     "text": [
      "9\n",
      "9\n",
      "1\n",
      "1\n"
     ]
    },
    {
     "name": "stderr",
     "output_type": "stream",
     "text": [
      "\r",
      " 15%|█▍        | 16/108 [00:04<00:32,  2.85it/s]"
     ]
    },
    {
     "name": "stdout",
     "output_type": "stream",
     "text": [
      "7\n",
      "1\n",
      "2\n",
      "9\n"
     ]
    },
    {
     "name": "stderr",
     "output_type": "stream",
     "text": [
      "\r",
      " 16%|█▌        | 17/108 [00:04<00:29,  3.07it/s]"
     ]
    },
    {
     "name": "stdout",
     "output_type": "stream",
     "text": [
      "9\n",
      "3\n",
      "9\n"
     ]
    },
    {
     "name": "stderr",
     "output_type": "stream",
     "text": [
      "\r",
      " 17%|█▋        | 18/108 [00:04<00:27,  3.26it/s]"
     ]
    },
    {
     "name": "stdout",
     "output_type": "stream",
     "text": [
      "9\n",
      "3\n",
      "9\n",
      "6\n"
     ]
    },
    {
     "name": "stderr",
     "output_type": "stream",
     "text": [
      "\r",
      " 18%|█▊        | 19/108 [00:04<00:26,  3.38it/s]"
     ]
    },
    {
     "name": "stdout",
     "output_type": "stream",
     "text": [
      "9\n",
      "9\n",
      "9\n",
      "9\n"
     ]
    },
    {
     "name": "stderr",
     "output_type": "stream",
     "text": [
      "\r",
      " 19%|█▊        | 20/108 [00:05<00:25,  3.52it/s]"
     ]
    },
    {
     "name": "stdout",
     "output_type": "stream",
     "text": [
      "9\n",
      "2\n",
      "2\n",
      "1\n"
     ]
    },
    {
     "name": "stderr",
     "output_type": "stream",
     "text": [
      "\r",
      " 19%|█▉        | 21/108 [00:05<00:24,  3.49it/s]"
     ]
    },
    {
     "name": "stdout",
     "output_type": "stream",
     "text": [
      "4\n",
      "5\n",
      "1\n",
      "2\n"
     ]
    },
    {
     "name": "stderr",
     "output_type": "stream",
     "text": [
      "\r",
      " 20%|██        | 22/108 [00:05<00:23,  3.65it/s]"
     ]
    },
    {
     "name": "stdout",
     "output_type": "stream",
     "text": [
      "9\n",
      "9\n",
      "1\n",
      "0\n"
     ]
    },
    {
     "name": "stderr",
     "output_type": "stream",
     "text": [
      "\r",
      " 21%|██▏       | 23/108 [00:05<00:23,  3.69it/s]"
     ]
    },
    {
     "name": "stdout",
     "output_type": "stream",
     "text": [
      "2\n",
      "9\n",
      "9\n",
      "9\n"
     ]
    },
    {
     "name": "stderr",
     "output_type": "stream",
     "text": [
      "\r",
      " 22%|██▏       | 24/108 [00:06<00:37,  2.25it/s]"
     ]
    },
    {
     "name": "stdout",
     "output_type": "stream",
     "text": [
      "9\n",
      "1\n",
      "9\n",
      "2\n"
     ]
    },
    {
     "name": "stderr",
     "output_type": "stream",
     "text": [
      "\r",
      " 23%|██▎       | 25/108 [00:07<00:32,  2.54it/s]"
     ]
    },
    {
     "name": "stdout",
     "output_type": "stream",
     "text": [
      "8\n",
      "4\n",
      "9\n",
      "1\n"
     ]
    },
    {
     "name": "stderr",
     "output_type": "stream",
     "text": [
      "\r",
      " 24%|██▍       | 26/108 [00:07<00:30,  2.69it/s]"
     ]
    },
    {
     "name": "stdout",
     "output_type": "stream",
     "text": [
      "6\n",
      "2\n",
      "9\n",
      "5\n",
      "2\n"
     ]
    },
    {
     "name": "stderr",
     "output_type": "stream",
     "text": [
      "\r",
      " 25%|██▌       | 27/108 [00:07<00:28,  2.85it/s]"
     ]
    },
    {
     "name": "stdout",
     "output_type": "stream",
     "text": [
      "9\n",
      "9\n",
      "3\n",
      "9\n",
      "3\n"
     ]
    },
    {
     "name": "stderr",
     "output_type": "stream",
     "text": [
      "\r",
      " 26%|██▌       | 28/108 [00:07<00:25,  3.13it/s]"
     ]
    },
    {
     "name": "stdout",
     "output_type": "stream",
     "text": [
      "1\n",
      "1\n",
      "6\n",
      "3\n"
     ]
    },
    {
     "name": "stderr",
     "output_type": "stream",
     "text": [
      "\r",
      " 27%|██▋       | 29/108 [00:08<00:25,  3.15it/s]"
     ]
    },
    {
     "name": "stdout",
     "output_type": "stream",
     "text": [
      "2\n",
      "9\n",
      "9\n",
      "8\n",
      "6\n"
     ]
    },
    {
     "name": "stderr",
     "output_type": "stream",
     "text": [
      "\r",
      " 28%|██▊       | 30/108 [00:08<00:23,  3.27it/s]"
     ]
    },
    {
     "name": "stdout",
     "output_type": "stream",
     "text": [
      "1\n",
      "5\n",
      "2\n",
      "7\n",
      "9\n"
     ]
    },
    {
     "name": "stderr",
     "output_type": "stream",
     "text": [
      "\r",
      " 29%|██▊       | 31/108 [00:08<00:23,  3.34it/s]"
     ]
    },
    {
     "name": "stdout",
     "output_type": "stream",
     "text": [
      "7\n",
      "9\n",
      "9\n",
      "1\n",
      "1\n"
     ]
    },
    {
     "name": "stderr",
     "output_type": "stream",
     "text": [
      "\r",
      " 30%|██▉       | 32/108 [00:09<00:22,  3.43it/s]"
     ]
    },
    {
     "name": "stdout",
     "output_type": "stream",
     "text": [
      "7\n",
      "9\n",
      "9\n",
      "3\n"
     ]
    },
    {
     "name": "stderr",
     "output_type": "stream",
     "text": [
      "\r",
      " 31%|███       | 33/108 [00:09<00:21,  3.49it/s]"
     ]
    },
    {
     "name": "stdout",
     "output_type": "stream",
     "text": [
      "9\n",
      "4\n",
      "1\n",
      "7\n",
      "5\n"
     ]
    },
    {
     "name": "stderr",
     "output_type": "stream",
     "text": [
      "\r",
      " 31%|███▏      | 34/108 [00:10<00:34,  2.12it/s]"
     ]
    },
    {
     "name": "stdout",
     "output_type": "stream",
     "text": [
      "9\n",
      "3\n",
      "9\n",
      "1\n"
     ]
    },
    {
     "name": "stderr",
     "output_type": "stream",
     "text": [
      "\r",
      " 32%|███▏      | 35/108 [00:10<00:29,  2.46it/s]"
     ]
    },
    {
     "name": "stdout",
     "output_type": "stream",
     "text": [
      "9\n",
      "8\n",
      "9\n",
      "2\n",
      "1\n"
     ]
    },
    {
     "name": "stderr",
     "output_type": "stream",
     "text": [
      "\r",
      " 33%|███▎      | 36/108 [00:10<00:27,  2.61it/s]"
     ]
    },
    {
     "name": "stdout",
     "output_type": "stream",
     "text": [
      "9\n",
      "4\n",
      "2\n",
      "9\n",
      "7\n"
     ]
    },
    {
     "name": "stderr",
     "output_type": "stream",
     "text": [
      "\r",
      " 34%|███▍      | 37/108 [00:11<00:24,  2.95it/s]"
     ]
    },
    {
     "name": "stdout",
     "output_type": "stream",
     "text": [
      "7\n",
      "8\n"
     ]
    },
    {
     "name": "stderr",
     "output_type": "stream",
     "text": [
      "\r",
      " 35%|███▌      | 38/108 [00:11<00:21,  3.19it/s]"
     ]
    },
    {
     "name": "stdout",
     "output_type": "stream",
     "text": [
      "1\n",
      "8\n",
      "9\n"
     ]
    },
    {
     "name": "stderr",
     "output_type": "stream",
     "text": [
      "\r",
      " 36%|███▌      | 39/108 [00:11<00:20,  3.41it/s]"
     ]
    },
    {
     "name": "stdout",
     "output_type": "stream",
     "text": [
      "1\n",
      "5\n",
      "1\n"
     ]
    },
    {
     "name": "stderr",
     "output_type": "stream",
     "text": [
      "\r",
      " 37%|███▋      | 40/108 [00:11<00:19,  3.57it/s]"
     ]
    },
    {
     "name": "stdout",
     "output_type": "stream",
     "text": [
      "9\n",
      "9\n",
      "1\n"
     ]
    },
    {
     "name": "stderr",
     "output_type": "stream",
     "text": [
      "\r",
      " 38%|███▊      | 41/108 [00:12<00:17,  3.72it/s]"
     ]
    },
    {
     "name": "stdout",
     "output_type": "stream",
     "text": [
      "8\n",
      "3\n",
      "2\n"
     ]
    },
    {
     "name": "stderr",
     "output_type": "stream",
     "text": [
      "\r",
      " 39%|███▉      | 42/108 [00:12<00:16,  3.98it/s]"
     ]
    },
    {
     "name": "stdout",
     "output_type": "stream",
     "text": [
      "9\n",
      "5\n",
      "2\n"
     ]
    },
    {
     "name": "stderr",
     "output_type": "stream",
     "text": [
      "\r",
      " 40%|███▉      | 43/108 [00:12<00:15,  4.08it/s]"
     ]
    },
    {
     "name": "stdout",
     "output_type": "stream",
     "text": [
      "9\n",
      "1\n",
      "1\n"
     ]
    },
    {
     "name": "stderr",
     "output_type": "stream",
     "text": [
      " 42%|████▏     | 45/108 [00:13<00:22,  2.84it/s]"
     ]
    },
    {
     "name": "stdout",
     "output_type": "stream",
     "text": [
      "5\n",
      "9\n",
      "2\n",
      "9\n",
      "4\n",
      "5\n"
     ]
    },
    {
     "name": "stderr",
     "output_type": "stream",
     "text": [
      "\r",
      " 43%|████▎     | 46/108 [00:13<00:19,  3.22it/s]"
     ]
    },
    {
     "name": "stdout",
     "output_type": "stream",
     "text": [
      "1\n",
      "9\n",
      "2\n"
     ]
    },
    {
     "name": "stderr",
     "output_type": "stream",
     "text": [
      " 44%|████▍     | 48/108 [00:14<00:15,  3.93it/s]"
     ]
    },
    {
     "name": "stdout",
     "output_type": "stream",
     "text": [
      "9\n",
      "1\n",
      "5\n",
      "5\n",
      "9\n"
     ]
    },
    {
     "name": "stderr",
     "output_type": "stream",
     "text": [
      "\r",
      " 45%|████▌     | 49/108 [00:14<00:13,  4.51it/s]"
     ]
    },
    {
     "name": "stdout",
     "output_type": "stream",
     "text": [
      "1\n",
      "7\n",
      "1\n",
      "1\n",
      "1\n",
      "5\n",
      "1\n",
      "9\n"
     ]
    },
    {
     "name": "stderr",
     "output_type": "stream",
     "text": [
      " 47%|████▋     | 51/108 [00:14<00:12,  4.58it/s]"
     ]
    },
    {
     "name": "stdout",
     "output_type": "stream",
     "text": [
      "2\n",
      "9\n",
      "9\n"
     ]
    },
    {
     "name": "stderr",
     "output_type": "stream",
     "text": [
      "\r",
      " 48%|████▊     | 52/108 [00:14<00:12,  4.52it/s]"
     ]
    },
    {
     "name": "stdout",
     "output_type": "stream",
     "text": [
      "2\n",
      "3\n",
      "9\n",
      "9\n"
     ]
    },
    {
     "name": "stderr",
     "output_type": "stream",
     "text": [
      " 50%|█████     | 54/108 [00:15<00:11,  4.82it/s]"
     ]
    },
    {
     "name": "stdout",
     "output_type": "stream",
     "text": [
      "2\n",
      "9\n",
      "18\n",
      "9\n",
      "3\n",
      "1\n",
      "2\n"
     ]
    },
    {
     "name": "stderr",
     "output_type": "stream",
     "text": [
      "\r",
      " 51%|█████     | 55/108 [00:16<00:18,  2.80it/s]"
     ]
    },
    {
     "name": "stdout",
     "output_type": "stream",
     "text": [
      "2\n",
      "9\n",
      "1\n",
      "9\n"
     ]
    },
    {
     "name": "stderr",
     "output_type": "stream",
     "text": [
      "\r",
      " 52%|█████▏    | 56/108 [00:16<00:16,  3.10it/s]"
     ]
    },
    {
     "name": "stdout",
     "output_type": "stream",
     "text": [
      "6\n",
      "8\n",
      "9\n",
      "6\n"
     ]
    },
    {
     "name": "stderr",
     "output_type": "stream",
     "text": [
      "\r",
      " 53%|█████▎    | 57/108 [00:16<00:15,  3.39it/s]"
     ]
    },
    {
     "name": "stdout",
     "output_type": "stream",
     "text": [
      "2\n",
      "9\n",
      "1\n",
      "3\n"
     ]
    },
    {
     "name": "stderr",
     "output_type": "stream",
     "text": [
      "\r",
      " 54%|█████▎    | 58/108 [00:16<00:14,  3.52it/s]"
     ]
    },
    {
     "name": "stdout",
     "output_type": "stream",
     "text": [
      "3\n",
      "9\n",
      "9\n",
      "9\n"
     ]
    },
    {
     "name": "stderr",
     "output_type": "stream",
     "text": [
      "\r",
      " 55%|█████▍    | 59/108 [00:17<00:13,  3.77it/s]"
     ]
    },
    {
     "name": "stdout",
     "output_type": "stream",
     "text": [
      "1\n",
      "8\n",
      "9\n",
      "3\n"
     ]
    },
    {
     "name": "stderr",
     "output_type": "stream",
     "text": [
      "\r",
      " 56%|█████▌    | 60/108 [00:17<00:12,  3.93it/s]"
     ]
    },
    {
     "name": "stdout",
     "output_type": "stream",
     "text": [
      "9\n",
      "9\n",
      "1\n",
      "1\n"
     ]
    },
    {
     "name": "stderr",
     "output_type": "stream",
     "text": [
      "\r",
      " 56%|█████▋    | 61/108 [00:17<00:12,  3.83it/s]"
     ]
    },
    {
     "name": "stdout",
     "output_type": "stream",
     "text": [
      "6\n",
      "9\n",
      "6\n",
      "9\n",
      "0\n",
      "1\n",
      "2\n",
      "7\n",
      "5\n"
     ]
    },
    {
     "name": "stderr",
     "output_type": "stream",
     "text": [
      " 58%|█████▊    | 63/108 [00:18<00:12,  3.59it/s]"
     ]
    },
    {
     "name": "stdout",
     "output_type": "stream",
     "text": [
      "9\n",
      "9\n",
      "9\n",
      "5\n",
      "3\n"
     ]
    },
    {
     "name": "stderr",
     "output_type": "stream",
     "text": [
      "\r",
      " 59%|█████▉    | 64/108 [00:18<00:12,  3.64it/s]"
     ]
    },
    {
     "name": "stdout",
     "output_type": "stream",
     "text": [
      "3\n",
      "9\n",
      "0\n",
      "2\n",
      "9\n"
     ]
    },
    {
     "name": "stderr",
     "output_type": "stream",
     "text": [
      "\r",
      " 60%|██████    | 65/108 [00:19<00:18,  2.27it/s]"
     ]
    },
    {
     "name": "stdout",
     "output_type": "stream",
     "text": [
      "9\n",
      "3\n",
      "2\n",
      "2\n"
     ]
    },
    {
     "name": "stderr",
     "output_type": "stream",
     "text": [
      "\r",
      " 61%|██████    | 66/108 [00:19<00:15,  2.63it/s]"
     ]
    },
    {
     "name": "stdout",
     "output_type": "stream",
     "text": [
      "9\n",
      "7\n",
      "4\n",
      "9\n",
      "5\n"
     ]
    },
    {
     "name": "stderr",
     "output_type": "stream",
     "text": [
      "\r",
      " 62%|██████▏   | 67/108 [00:19<00:13,  2.97it/s]"
     ]
    },
    {
     "name": "stdout",
     "output_type": "stream",
     "text": [
      "2\n",
      "1\n",
      "9\n",
      "1\n"
     ]
    },
    {
     "name": "stderr",
     "output_type": "stream",
     "text": [
      "\r",
      " 63%|██████▎   | 68/108 [00:19<00:12,  3.29it/s]"
     ]
    },
    {
     "name": "stdout",
     "output_type": "stream",
     "text": [
      "9\n",
      "9\n",
      "9\n",
      "1\n",
      "2\n"
     ]
    },
    {
     "name": "stderr",
     "output_type": "stream",
     "text": [
      " 65%|██████▍   | 70/108 [00:20<00:09,  3.86it/s]"
     ]
    },
    {
     "name": "stdout",
     "output_type": "stream",
     "text": [
      "4\n",
      "2\n",
      "2\n",
      "3\n",
      "5\n",
      "4\n",
      "7\n",
      "5\n",
      "3\n",
      "6\n"
     ]
    },
    {
     "name": "stderr",
     "output_type": "stream",
     "text": [
      "\r",
      " 66%|██████▌   | 71/108 [00:20<00:09,  3.80it/s]"
     ]
    },
    {
     "name": "stdout",
     "output_type": "stream",
     "text": [
      "2\n",
      "9\n",
      "6\n",
      "9\n"
     ]
    },
    {
     "name": "stderr",
     "output_type": "stream",
     "text": [
      "\r",
      " 67%|██████▋   | 72/108 [00:20<00:09,  3.79it/s]"
     ]
    },
    {
     "name": "stdout",
     "output_type": "stream",
     "text": [
      "4\n",
      "9\n",
      "1\n",
      "1\n",
      "1\n",
      "9\n",
      "2\n",
      "2\n"
     ]
    },
    {
     "name": "stderr",
     "output_type": "stream",
     "text": [
      " 69%|██████▉   | 75/108 [00:21<00:06,  4.84it/s]"
     ]
    },
    {
     "name": "stdout",
     "output_type": "stream",
     "text": [
      "9\n",
      "4\n",
      "8\n",
      "2\n",
      "9\n"
     ]
    },
    {
     "name": "stderr",
     "output_type": "stream",
     "text": [
      "\r",
      " 70%|███████   | 76/108 [00:22<00:10,  3.00it/s]"
     ]
    },
    {
     "name": "stdout",
     "output_type": "stream",
     "text": [
      "8\n",
      "5\n",
      "9\n",
      "2\n",
      "9\n",
      "2\n"
     ]
    },
    {
     "name": "stderr",
     "output_type": "stream",
     "text": [
      " 72%|███████▏  | 78/108 [00:22<00:07,  3.93it/s]"
     ]
    },
    {
     "name": "stdout",
     "output_type": "stream",
     "text": [
      "2\n",
      "2\n",
      "1\n",
      "9\n",
      "2\n"
     ]
    },
    {
     "name": "stderr",
     "output_type": "stream",
     "text": [
      " 75%|███████▌  | 81/108 [00:22<00:05,  4.87it/s]"
     ]
    },
    {
     "name": "stdout",
     "output_type": "stream",
     "text": [
      "4\n",
      "3\n",
      "4\n",
      "2\n",
      "1\n",
      "9\n"
     ]
    },
    {
     "name": "stderr",
     "output_type": "stream",
     "text": [
      " 77%|███████▋  | 83/108 [00:23<00:04,  5.03it/s]"
     ]
    },
    {
     "name": "stdout",
     "output_type": "stream",
     "text": [
      "3\n",
      "9\n",
      "4\n",
      "9\n",
      "9\n",
      "9\n"
     ]
    },
    {
     "name": "stderr",
     "output_type": "stream",
     "text": [
      "\r",
      " 78%|███████▊  | 84/108 [00:23<00:04,  5.01it/s]"
     ]
    },
    {
     "name": "stdout",
     "output_type": "stream",
     "text": [
      "3\n",
      "2\n",
      "3\n"
     ]
    },
    {
     "name": "stderr",
     "output_type": "stream",
     "text": [
      "\r",
      " 79%|███████▊  | 85/108 [00:23<00:04,  4.87it/s]"
     ]
    },
    {
     "name": "stdout",
     "output_type": "stream",
     "text": [
      "2\n",
      "9\n",
      "9\n"
     ]
    },
    {
     "name": "stderr",
     "output_type": "stream",
     "text": [
      "\r",
      " 80%|███████▉  | 86/108 [00:23<00:04,  4.79it/s]"
     ]
    },
    {
     "name": "stdout",
     "output_type": "stream",
     "text": [
      "2\n",
      "6\n",
      "9\n",
      "9\n"
     ]
    },
    {
     "name": "stderr",
     "output_type": "stream",
     "text": [
      "\r",
      " 81%|████████  | 87/108 [00:24<00:07,  2.91it/s]"
     ]
    },
    {
     "name": "stdout",
     "output_type": "stream",
     "text": [
      "9\n",
      "1\n",
      "1\n",
      "3\n"
     ]
    },
    {
     "name": "stderr",
     "output_type": "stream",
     "text": [
      "\r",
      " 81%|████████▏ | 88/108 [00:24<00:06,  3.27it/s]"
     ]
    },
    {
     "name": "stdout",
     "output_type": "stream",
     "text": [
      "2\n",
      "9\n",
      "1\n",
      "1\n"
     ]
    },
    {
     "name": "stderr",
     "output_type": "stream",
     "text": [
      "\r",
      " 82%|████████▏ | 89/108 [00:25<00:05,  3.42it/s]"
     ]
    },
    {
     "name": "stdout",
     "output_type": "stream",
     "text": [
      "6\n",
      "1\n",
      "5\n",
      "1\n"
     ]
    },
    {
     "name": "stderr",
     "output_type": "stream",
     "text": [
      "\r",
      " 83%|████████▎ | 90/108 [00:25<00:04,  3.61it/s]"
     ]
    },
    {
     "name": "stdout",
     "output_type": "stream",
     "text": [
      "2\n",
      "9\n",
      "1\n",
      "9\n"
     ]
    },
    {
     "name": "stderr",
     "output_type": "stream",
     "text": [
      "\r",
      " 84%|████████▍ | 91/108 [00:25<00:04,  3.84it/s]"
     ]
    },
    {
     "name": "stdout",
     "output_type": "stream",
     "text": [
      "9\n",
      "4\n",
      "2\n",
      "1\n",
      "3\n",
      "9\n",
      "1\n"
     ]
    },
    {
     "name": "stderr",
     "output_type": "stream",
     "text": [
      " 86%|████████▌ | 93/108 [00:25<00:03,  4.30it/s]"
     ]
    },
    {
     "name": "stdout",
     "output_type": "stream",
     "text": [
      "9\n",
      "3\n",
      "3\n",
      "9\n",
      "9\n",
      "9\n",
      "3\n",
      "3\n"
     ]
    },
    {
     "name": "stderr",
     "output_type": "stream",
     "text": [
      " 88%|████████▊ | 95/108 [00:26<00:02,  4.53it/s]"
     ]
    },
    {
     "name": "stdout",
     "output_type": "stream",
     "text": [
      "1\n",
      "1\n",
      "9\n",
      "9\n",
      "1\n",
      "9\n",
      "1\n",
      "2\n"
     ]
    },
    {
     "name": "stderr",
     "output_type": "stream",
     "text": [
      " 90%|████████▉ | 97/108 [00:26<00:02,  4.70it/s]"
     ]
    },
    {
     "name": "stdout",
     "output_type": "stream",
     "text": [
      "1\n",
      "3\n",
      "4\n",
      "1\n"
     ]
    },
    {
     "name": "stderr",
     "output_type": "stream",
     "text": [
      "\r",
      " 91%|█████████ | 98/108 [00:27<00:03,  2.77it/s]"
     ]
    },
    {
     "name": "stdout",
     "output_type": "stream",
     "text": [
      "9\n",
      "1\n",
      "4\n",
      "1\n",
      "1\n"
     ]
    },
    {
     "name": "stderr",
     "output_type": "stream",
     "text": [
      " 93%|█████████▎| 100/108 [00:27<00:02,  3.76it/s]"
     ]
    },
    {
     "name": "stdout",
     "output_type": "stream",
     "text": [
      "2\n",
      "9\n",
      "9\n",
      "9\n",
      "1\n",
      "4\n",
      "1\n",
      "8\n",
      "3\n",
      "2\n"
     ]
    },
    {
     "name": "stderr",
     "output_type": "stream",
     "text": [
      "\r",
      " 94%|█████████▎| 101/108 [00:28<00:01,  3.87it/s]"
     ]
    },
    {
     "name": "stdout",
     "output_type": "stream",
     "text": [
      "9\n",
      "2\n",
      "9\n",
      "5\n"
     ]
    },
    {
     "name": "stderr",
     "output_type": "stream",
     "text": [
      "\r",
      " 94%|█████████▍| 102/108 [00:28<00:01,  4.07it/s]"
     ]
    },
    {
     "name": "stdout",
     "output_type": "stream",
     "text": [
      "1\n",
      "3\n",
      "2\n",
      "9\n",
      "9\n"
     ]
    },
    {
     "name": "stderr",
     "output_type": "stream",
     "text": [
      " 96%|█████████▋| 104/108 [00:28<00:00,  4.70it/s]"
     ]
    },
    {
     "name": "stdout",
     "output_type": "stream",
     "text": [
      "9\n",
      "9\n",
      "2\n",
      "3\n",
      "1\n",
      "1\n",
      "1\n",
      "6\n",
      "3\n"
     ]
    },
    {
     "name": "stderr",
     "output_type": "stream",
     "text": [
      "\r",
      " 97%|█████████▋| 105/108 [00:28<00:00,  4.57it/s]"
     ]
    },
    {
     "name": "stdout",
     "output_type": "stream",
     "text": [
      "9\n",
      "2\n",
      "4\n",
      "8\n",
      "1\n"
     ]
    },
    {
     "name": "stderr",
     "output_type": "stream",
     "text": [
      "\r",
      " 98%|█████████▊| 106/108 [00:29<00:00,  4.57it/s]"
     ]
    },
    {
     "name": "stdout",
     "output_type": "stream",
     "text": [
      "3\n",
      "9\n",
      "9\n",
      "4\n"
     ]
    },
    {
     "name": "stderr",
     "output_type": "stream",
     "text": [
      "\r",
      " 99%|█████████▉| 107/108 [00:29<00:00,  4.52it/s]"
     ]
    },
    {
     "name": "stdout",
     "output_type": "stream",
     "text": [
      "9\n",
      "2\n",
      "2\n",
      "9\n",
      "4\n"
     ]
    },
    {
     "name": "stderr",
     "output_type": "stream",
     "text": [
      "100%|██████████| 108/108 [00:30<00:00,  3.59it/s]\n"
     ]
    },
    {
     "name": "stdout",
     "output_type": "stream",
     "text": [
      "1\n",
      "9\n",
      "9\n",
      "1\n",
      "1\n",
      "Number of gestures per class in the original training set :\n",
      "Class No gesture has 1 samples\n",
      "Class RIGHT has 24 samples\n",
      "Class KNOB has 24 samples\n",
      "Class CROSS has 24 samples\n",
      "Class THREE has 24 samples\n",
      "Class V has 24 samples\n",
      "Class ONE has 24 samples\n",
      "Class FOUR has 24 samples\n",
      "Class GRAB has 25 samples\n",
      "Class DENY has 24 samples\n",
      "Class MENU has 24 samples\n",
      "Class CIRCLE has 24 samples\n",
      "Class TAP has 23 samples\n",
      "Class PINCH has 23 samples\n",
      "Class LEFT has 24 samples\n",
      "Class TWO has 24 samples\n",
      "Class OK has 24 samples\n",
      "Class EXPAND has 24 samples\n",
      "Number of gestures per class in the training set after augmentation:\n",
      "Class No gesture has 69 samples\n",
      "Class RIGHT has 33 samples\n",
      "Class KNOB has 33 samples\n",
      "Class CROSS has 33 samples\n",
      "Class THREE has 33 samples\n",
      "Class V has 33 samples\n",
      "Class ONE has 33 samples\n",
      "Class FOUR has 33 samples\n",
      "Class GRAB has 33 samples\n",
      "Class DENY has 33 samples\n",
      "Class MENU has 33 samples\n",
      "Class CIRCLE has 33 samples\n",
      "Class TAP has 33 samples\n",
      "Class PINCH has 33 samples\n",
      "Class LEFT has 33 samples\n",
      "Class TWO has 33 samples\n",
      "Class OK has 33 samples\n",
      "Class EXPAND has 33 samples\n"
     ]
    },
    {
     "name": "stderr",
     "output_type": "stream",
     "text": [
      "100%|██████████| 72/72 [00:18<00:00,  3.97it/s]\n"
     ]
    },
    {
     "name": "stdout",
     "output_type": "stream",
     "text": [
      "Number of gestures per class in the original test set :\n",
      "Class No gesture has 1 samples\n",
      "Class RIGHT has 16 samples\n",
      "Class KNOB has 16 samples\n",
      "Class CROSS has 18 samples\n",
      "Class THREE has 16 samples\n",
      "Class V has 15 samples\n",
      "Class ONE has 16 samples\n",
      "Class FOUR has 16 samples\n",
      "Class GRAB has 16 samples\n",
      "Class DENY has 16 samples\n",
      "Class MENU has 16 samples\n",
      "Class CIRCLE has 16 samples\n",
      "Class TAP has 14 samples\n",
      "Class PINCH has 16 samples\n",
      "Class LEFT has 16 samples\n",
      "Class TWO has 16 samples\n",
      "Class OK has 15 samples\n",
      "Class EXPAND has 15 samples\n",
      "train data num:  630\n",
      "test data num:  311\n"
     ]
    }
   ],
   "source": [
    "train_ds, test_ds, g=load_data_sets()"
   ]
  },
  {
   "cell_type": "code",
   "execution_count": 204,
   "id": "004d12f7",
   "metadata": {},
   "outputs": [],
   "source": [
    "l=[1,2,3,5,4,6,8]"
   ]
  },
  {
   "cell_type": "code",
   "execution_count": null,
   "id": "bdc2c00f",
   "metadata": {},
   "outputs": [],
   "source": []
  }
 ],
 "metadata": {
  "kernelspec": {
   "display_name": "Python 3 (ipykernel)",
   "language": "python",
   "name": "python3"
  },
  "language_info": {
   "codemirror_mode": {
    "name": "ipython",
    "version": 3
   },
   "file_extension": ".py",
   "mimetype": "text/x-python",
   "name": "python",
   "nbconvert_exporter": "python",
   "pygments_lexer": "ipython3",
   "version": "3.9.12"
  },
  "widgets": {
   "application/vnd.jupyter.widget-state+json": {
    "state": {},
    "version_major": 2,
    "version_minor": 0
   }
  }
 },
 "nbformat": 4,
 "nbformat_minor": 5
}
