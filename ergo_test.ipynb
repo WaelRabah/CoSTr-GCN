{
 "cells": [
  {
   "cell_type": "code",
   "execution_count": 1,
   "id": "f7171e42",
   "metadata": {
    "scrolled": true
   },
   "outputs": [
    {
     "name": "stdout",
     "output_type": "stream",
     "text": [
      "Requirement already satisfied: pypot in c:\\users\\wr11\\anaconda3\\envs\\continual-skeletons\\lib\\site-packages (5.0.2)\n",
      "Requirement already satisfied: requests in c:\\users\\wr11\\anaconda3\\envs\\continual-skeletons\\lib\\site-packages (from pypot) (2.28.1)\n",
      "Requirement already satisfied: pyserial>2.6 in c:\\users\\wr11\\anaconda3\\envs\\continual-skeletons\\lib\\site-packages (from pypot) (3.5)\n",
      "Requirement already satisfied: tornado in c:\\users\\wr11\\anaconda3\\envs\\continual-skeletons\\lib\\site-packages (from pypot) (6.2)\n",
      "Requirement already satisfied: scipy in c:\\users\\wr11\\anaconda3\\envs\\continual-skeletons\\lib\\site-packages (from pypot) (1.8.1)\n",
      "Requirement already satisfied: ikpy==3.0.1 in c:\\users\\wr11\\anaconda3\\envs\\continual-skeletons\\lib\\site-packages (from pypot) (3.0.1)\n",
      "Requirement already satisfied: opencv-contrib-python in c:\\users\\wr11\\anaconda3\\envs\\continual-skeletons\\lib\\site-packages (from pypot) (4.6.0.66)\n",
      "Requirement already satisfied: wget in c:\\users\\wr11\\anaconda3\\envs\\continual-skeletons\\lib\\site-packages (from pypot) (3.2)\n",
      "Requirement already satisfied: bottle in c:\\users\\wr11\\anaconda3\\envs\\continual-skeletons\\lib\\site-packages (from pypot) (0.12.23)\n",
      "Requirement already satisfied: numpy in c:\\users\\wr11\\anaconda3\\envs\\continual-skeletons\\lib\\site-packages (from pypot) (1.23.1)\n",
      "Requirement already satisfied: sympy in c:\\users\\wr11\\anaconda3\\envs\\continual-skeletons\\lib\\site-packages (from ikpy==3.0.1->pypot) (1.11.1)\n",
      "Requirement already satisfied: charset-normalizer<3,>=2 in c:\\users\\wr11\\anaconda3\\envs\\continual-skeletons\\lib\\site-packages (from requests->pypot) (2.1.0)\n",
      "Requirement already satisfied: certifi>=2017.4.17 in c:\\users\\wr11\\anaconda3\\envs\\continual-skeletons\\lib\\site-packages (from requests->pypot) (2022.6.15)\n",
      "Requirement already satisfied: idna<4,>=2.5 in c:\\users\\wr11\\anaconda3\\envs\\continual-skeletons\\lib\\site-packages (from requests->pypot) (3.3)\n",
      "Requirement already satisfied: urllib3<1.27,>=1.21.1 in c:\\users\\wr11\\anaconda3\\envs\\continual-skeletons\\lib\\site-packages (from requests->pypot) (1.26.10)\n",
      "Requirement already satisfied: mpmath>=0.19 in c:\\users\\wr11\\anaconda3\\envs\\continual-skeletons\\lib\\site-packages (from sympy->ikpy==3.0.1->pypot) (1.2.1)\n",
      "Requirement already satisfied: poppy-torso in c:\\users\\wr11\\anaconda3\\envs\\continual-skeletons\\lib\\site-packages (3.0.0)\n",
      "Requirement already satisfied: pypot>=4.0.0 in c:\\users\\wr11\\anaconda3\\envs\\continual-skeletons\\lib\\site-packages (from poppy-torso) (5.0.2)\n",
      "Requirement already satisfied: tornado in c:\\users\\wr11\\anaconda3\\envs\\continual-skeletons\\lib\\site-packages (from pypot>=4.0.0->poppy-torso) (6.2)\n",
      "Requirement already satisfied: ikpy==3.0.1 in c:\\users\\wr11\\anaconda3\\envs\\continual-skeletons\\lib\\site-packages (from pypot>=4.0.0->poppy-torso) (3.0.1)\n",
      "Requirement already satisfied: wget in c:\\users\\wr11\\anaconda3\\envs\\continual-skeletons\\lib\\site-packages (from pypot>=4.0.0->poppy-torso) (3.2)\n",
      "Requirement already satisfied: pyserial>2.6 in c:\\users\\wr11\\anaconda3\\envs\\continual-skeletons\\lib\\site-packages (from pypot>=4.0.0->poppy-torso) (3.5)\n",
      "Requirement already satisfied: bottle in c:\\users\\wr11\\anaconda3\\envs\\continual-skeletons\\lib\\site-packages (from pypot>=4.0.0->poppy-torso) (0.12.23)\n",
      "Requirement already satisfied: requests in c:\\users\\wr11\\anaconda3\\envs\\continual-skeletons\\lib\\site-packages (from pypot>=4.0.0->poppy-torso) (2.28.1)\n",
      "Requirement already satisfied: opencv-contrib-python in c:\\users\\wr11\\anaconda3\\envs\\continual-skeletons\\lib\\site-packages (from pypot>=4.0.0->poppy-torso) (4.6.0.66)\n",
      "Requirement already satisfied: numpy in c:\\users\\wr11\\anaconda3\\envs\\continual-skeletons\\lib\\site-packages (from pypot>=4.0.0->poppy-torso) (1.23.1)\n",
      "Requirement already satisfied: scipy in c:\\users\\wr11\\anaconda3\\envs\\continual-skeletons\\lib\\site-packages (from pypot>=4.0.0->poppy-torso) (1.8.1)\n",
      "Requirement already satisfied: sympy in c:\\users\\wr11\\anaconda3\\envs\\continual-skeletons\\lib\\site-packages (from ikpy==3.0.1->pypot>=4.0.0->poppy-torso) (1.11.1)\n",
      "Requirement already satisfied: charset-normalizer<3,>=2 in c:\\users\\wr11\\anaconda3\\envs\\continual-skeletons\\lib\\site-packages (from requests->pypot>=4.0.0->poppy-torso) (2.1.0)\n",
      "Requirement already satisfied: idna<4,>=2.5 in c:\\users\\wr11\\anaconda3\\envs\\continual-skeletons\\lib\\site-packages (from requests->pypot>=4.0.0->poppy-torso) (3.3)\n",
      "Requirement already satisfied: urllib3<1.27,>=1.21.1 in c:\\users\\wr11\\anaconda3\\envs\\continual-skeletons\\lib\\site-packages (from requests->pypot>=4.0.0->poppy-torso) (1.26.10)\n",
      "Requirement already satisfied: certifi>=2017.4.17 in c:\\users\\wr11\\anaconda3\\envs\\continual-skeletons\\lib\\site-packages (from requests->pypot>=4.0.0->poppy-torso) (2022.6.15)\n",
      "Requirement already satisfied: mpmath>=0.19 in c:\\users\\wr11\\anaconda3\\envs\\continual-skeletons\\lib\\site-packages (from sympy->ikpy==3.0.1->pypot>=4.0.0->poppy-torso) (1.2.1)\n",
      "Requirement already satisfied: poppy-ergo-jr in c:\\users\\wr11\\anaconda3\\envs\\continual-skeletons\\lib\\site-packages (4.0.2)\n",
      "Requirement already satisfied: pypot>=4.0.0 in c:\\users\\wr11\\anaconda3\\envs\\continual-skeletons\\lib\\site-packages (from poppy-ergo-jr) (5.0.2)\n",
      "Requirement already satisfied: hampy>=1.4.2 in c:\\users\\wr11\\anaconda3\\envs\\continual-skeletons\\lib\\site-packages (from poppy-ergo-jr) (1.4.2)\n",
      "Requirement already satisfied: numpy in c:\\users\\wr11\\anaconda3\\envs\\continual-skeletons\\lib\\site-packages (from hampy>=1.4.2->poppy-ergo-jr) (1.23.1)\n",
      "Requirement already satisfied: scipy in c:\\users\\wr11\\anaconda3\\envs\\continual-skeletons\\lib\\site-packages (from hampy>=1.4.2->poppy-ergo-jr) (1.8.1)\n",
      "Requirement already satisfied: matplotlib in c:\\users\\wr11\\anaconda3\\envs\\continual-skeletons\\lib\\site-packages (from hampy>=1.4.2->poppy-ergo-jr) (3.5.2)\n",
      "Requirement already satisfied: wget in c:\\users\\wr11\\anaconda3\\envs\\continual-skeletons\\lib\\site-packages (from pypot>=4.0.0->poppy-ergo-jr) (3.2)\n",
      "Requirement already satisfied: pyserial>2.6 in c:\\users\\wr11\\anaconda3\\envs\\continual-skeletons\\lib\\site-packages (from pypot>=4.0.0->poppy-ergo-jr) (3.5)\n",
      "Requirement already satisfied: opencv-contrib-python in c:\\users\\wr11\\anaconda3\\envs\\continual-skeletons\\lib\\site-packages (from pypot>=4.0.0->poppy-ergo-jr) (4.6.0.66)\n",
      "Requirement already satisfied: ikpy==3.0.1 in c:\\users\\wr11\\anaconda3\\envs\\continual-skeletons\\lib\\site-packages (from pypot>=4.0.0->poppy-ergo-jr) (3.0.1)\n",
      "Requirement already satisfied: bottle in c:\\users\\wr11\\anaconda3\\envs\\continual-skeletons\\lib\\site-packages (from pypot>=4.0.0->poppy-ergo-jr) (0.12.23)\n",
      "Requirement already satisfied: requests in c:\\users\\wr11\\anaconda3\\envs\\continual-skeletons\\lib\\site-packages (from pypot>=4.0.0->poppy-ergo-jr) (2.28.1)\n",
      "Requirement already satisfied: tornado in c:\\users\\wr11\\anaconda3\\envs\\continual-skeletons\\lib\\site-packages (from pypot>=4.0.0->poppy-ergo-jr) (6.2)\n",
      "Requirement already satisfied: sympy in c:\\users\\wr11\\anaconda3\\envs\\continual-skeletons\\lib\\site-packages (from ikpy==3.0.1->pypot>=4.0.0->poppy-ergo-jr) (1.11.1)\n",
      "Requirement already satisfied: packaging>=20.0 in c:\\users\\wr11\\anaconda3\\envs\\continual-skeletons\\lib\\site-packages (from matplotlib->hampy>=1.4.2->poppy-ergo-jr) (21.3)\n",
      "Requirement already satisfied: pillow>=6.2.0 in c:\\users\\wr11\\anaconda3\\envs\\continual-skeletons\\lib\\site-packages (from matplotlib->hampy>=1.4.2->poppy-ergo-jr) (9.2.0)\n",
      "Requirement already satisfied: fonttools>=4.22.0 in c:\\users\\wr11\\anaconda3\\envs\\continual-skeletons\\lib\\site-packages (from matplotlib->hampy>=1.4.2->poppy-ergo-jr) (4.34.4)\n",
      "Requirement already satisfied: cycler>=0.10 in c:\\users\\wr11\\anaconda3\\envs\\continual-skeletons\\lib\\site-packages (from matplotlib->hampy>=1.4.2->poppy-ergo-jr) (0.11.0)\n",
      "Requirement already satisfied: python-dateutil>=2.7 in c:\\users\\wr11\\anaconda3\\envs\\continual-skeletons\\lib\\site-packages (from matplotlib->hampy>=1.4.2->poppy-ergo-jr) (2.8.2)\n",
      "Requirement already satisfied: pyparsing>=2.2.1 in c:\\users\\wr11\\anaconda3\\envs\\continual-skeletons\\lib\\site-packages (from matplotlib->hampy>=1.4.2->poppy-ergo-jr) (3.0.9)\n",
      "Requirement already satisfied: kiwisolver>=1.0.1 in c:\\users\\wr11\\anaconda3\\envs\\continual-skeletons\\lib\\site-packages (from matplotlib->hampy>=1.4.2->poppy-ergo-jr) (1.4.4)\n",
      "Requirement already satisfied: urllib3<1.27,>=1.21.1 in c:\\users\\wr11\\anaconda3\\envs\\continual-skeletons\\lib\\site-packages (from requests->pypot>=4.0.0->poppy-ergo-jr) (1.26.10)\n",
      "Requirement already satisfied: certifi>=2017.4.17 in c:\\users\\wr11\\anaconda3\\envs\\continual-skeletons\\lib\\site-packages (from requests->pypot>=4.0.0->poppy-ergo-jr) (2022.6.15)\n",
      "Requirement already satisfied: idna<4,>=2.5 in c:\\users\\wr11\\anaconda3\\envs\\continual-skeletons\\lib\\site-packages (from requests->pypot>=4.0.0->poppy-ergo-jr) (3.3)\n",
      "Requirement already satisfied: charset-normalizer<3,>=2 in c:\\users\\wr11\\anaconda3\\envs\\continual-skeletons\\lib\\site-packages (from requests->pypot>=4.0.0->poppy-ergo-jr) (2.1.0)\n",
      "Requirement already satisfied: six>=1.5 in c:\\users\\wr11\\anaconda3\\envs\\continual-skeletons\\lib\\site-packages (from python-dateutil>=2.7->matplotlib->hampy>=1.4.2->poppy-ergo-jr) (1.16.0)\n",
      "Requirement already satisfied: mpmath>=0.19 in c:\\users\\wr11\\anaconda3\\envs\\continual-skeletons\\lib\\site-packages (from sympy->ikpy==3.0.1->pypot>=4.0.0->poppy-ergo-jr) (1.2.1)\n"
     ]
    }
   ],
   "source": [
    "!pip install pypot \n",
    "!pip install poppy-torso\n",
    "!pip install poppy-ergo-jr\n"
   ]
  },
  {
   "cell_type": "code",
   "execution_count": 6,
   "id": "df87c67d",
   "metadata": {},
   "outputs": [],
   "source": [
    "import pypot\n",
    "from pypot.creatures import PoppyErgoJr\n"
   ]
  },
  {
   "cell_type": "code",
   "execution_count": 11,
   "id": "b64b3041",
   "metadata": {},
   "outputs": [],
   "source": [
    "pypot.vrep.close_all_connections()"
   ]
  },
  {
   "cell_type": "code",
   "execution_count": 12,
   "id": "2e5fd663",
   "metadata": {},
   "outputs": [
    {
     "ename": "",
     "evalue": "",
     "output_type": "error",
     "traceback": [
      "\u001b[1;31mThe Kernel crashed while executing code in the the current cell or a previous cell. Please review the code in the cell(s) to identify a possible cause of the failure. Click <a href='https://aka.ms/vscodeJupyterKernelCrash'>here</a> for more info. View Jupyter <a href='command:jupyter.viewOutput'>log</a> for further details."
     ]
    }
   ],
   "source": [
    "JR=PoppyErgoJr(simulator='vrep', scene=\"poppy_ergo_jr_holder.ttt\")"
   ]
  },
  {
   "cell_type": "code",
   "execution_count": 7,
   "id": "8009f8e3",
   "metadata": {},
   "outputs": [],
   "source": []
  },
  {
   "cell_type": "code",
   "execution_count": 14,
   "id": "cdf6a9f2",
   "metadata": {},
   "outputs": [],
   "source": [
    "JR.motors[3].goto_position(80,20)"
   ]
  },
  {
   "cell_type": "code",
   "execution_count": 9,
   "id": "eb0aa604",
   "metadata": {},
   "outputs": [],
   "source": [
    "JR.goto_position({  'm1': 90.,\n",
    "                    'm2': 80.,\n",
    "                    'm3': 80.,\n",
    "                    'm4': 80.,\n",
    "                    'm5': 80.,\n",
    "                    'm6': 80.}, 20., wait=True)"
   ]
  },
  {
   "cell_type": "code",
   "execution_count": 8,
   "id": "0fc5136e",
   "metadata": {},
   "outputs": [],
   "source": [
    "for m in JR.motors:\n",
    "    m.moving_speed = 20"
   ]
  },
  {
   "cell_type": "code",
   "execution_count": 55,
   "id": "dbd91e32",
   "metadata": {},
   "outputs": [
    {
     "name": "stdout",
     "output_type": "stream",
     "text": [
      "['m1', 'm2', 'm3', 'm4', 'm5', 'm6']\n",
      "-59.2\n",
      "[]\n",
      "[27.0, 148.2, -59.2, -97.9, -55.9, 10.3]\n",
      "-47.7\n",
      "-103.2\n",
      "-80.4\n",
      "-103.6\n",
      "-59.2\n",
      "-61.3\n"
     ]
    }
   ],
   "source": [
    "# If you want to use the robot with the camera unplugged, \n",
    "# you have to pass the parameter camera='dummy'\n",
    "# poppy = PoppyErgoJr(camera='dummy')\n",
    "\n",
    "# If you want to use a simulated robot in the 3D web viewer aka \"poppy simu\"\n",
    "# poppy = PoppyErgoJr(simulator='poppy-simu')\n",
    "# then go to http://simu.poppy-project.org/poppy-ergo-jr/ and check \"synchroniser\"\n",
    "\n",
    "# If you want to use the robot with the CoppeliaSim simulator, open the simulator and execute:\n",
    "# poppy = PoppyErgoJr(simulator='vrep')\n",
    "# You can also change the end effector tools if you precise the V-REP scene\n",
    "# poppy = PoppyErgoJr(simulator='vrep', scene=\"poppy_ergo_jr_holder.ttt\")\n",
    "# poppy = PoppyErgoJr(simulator='vrep', scene=\"poppy_ergo_jr_empty.ttt\")\n",
    "\n",
    "\n",
    "len(JR.motors) # nombre des moteurs\n",
    "\n",
    "print([m.name for m in JR.motors]) # noms des moteurs\n",
    "\n",
    "print(JR.m3.present_position) #position angulaire du moteur m3\n",
    "\n",
    "print([s.name for s in JR.sensors]) # listers les capteurs\n",
    "\n",
    "JR.m1.compliant = False # rendre le moteur rigide\n",
    "\n",
    "# rendre tous les moteurs rigides\n",
    "#for m in JR.motors:\n",
    "#\tm.compliant = False\n",
    "\n",
    "print([m.present_position for m in JR.motors]) # afficher les positions angulaires des moteurs\n",
    "\n",
    "\n",
    "#position init\n",
    "JR.goto_position({  'm1': 0.,\n",
    "                    'm2': 0.,\n",
    "                    'm3': 0.,\n",
    "                    'm4': 0.,\n",
    "                    'm5': 0.,\n",
    "                    'm6': 0.}, 2., wait=True)\n",
    "\n",
    "JR.m3.goal_position = 0\n",
    "\n",
    "for m in JR.motors:\n",
    "    m.moving_speed = 50\n",
    "\n",
    "JR.m3.goto_position(0, 2, wait=True)\n",
    "\n",
    "import time\n",
    "for _ in range(3):\n",
    "    JR.m3.goto_position(0, 1, wait=True)\n",
    "    time.sleep(0.5)\n",
    "    print(JR.m3.present_position)\n",
    "    JR.m3.goto_position(-60, 1, wait=True)\n",
    "    time.sleep(0.5)\n",
    "    print(JR.m3.present_position)\n",
    "\n",
    "for _ in range(3):\n",
    "    JR.m3.goto_position(0, 1, wait=True)\n",
    "    time.sleep(0.5)\n",
    "    JR.m1.goto_position(30, 1, wait=True)\n",
    "    JR.m3.goto_position(-60, 1, wait=True)\n",
    "    time.sleep(0.5)\n",
    "    JR.m1.goto_position(60, 1, wait=True)\n",
    "    time.sleep(0.5)\n",
    "\n",
    "\n",
    "    \n",
    "\n"
   ]
  },
  {
   "cell_type": "code",
   "execution_count": null,
   "id": "f2fec90a",
   "metadata": {},
   "outputs": [],
   "source": []
  }
 ],
 "metadata": {
  "kernelspec": {
   "display_name": "Python 3.8.10 64-bit",
   "language": "python",
   "name": "python3"
  },
  "language_info": {
   "codemirror_mode": {
    "name": "ipython",
    "version": 3
   },
   "file_extension": ".py",
   "mimetype": "text/x-python",
   "name": "python",
   "nbconvert_exporter": "python",
   "pygments_lexer": "ipython3",
   "version": "3.8.10"
  },
  "vscode": {
   "interpreter": {
    "hash": "0185029bc7e5ab5fd6a37d237d2b054f8252c7c82f5be991d443c7f2d7ddb2f6"
   }
  }
 },
 "nbformat": 4,
 "nbformat_minor": 5
}
